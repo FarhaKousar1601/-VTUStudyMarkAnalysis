{
  "cells": [
    {
      "cell_type": "markdown",
      "metadata": {
        "id": "view-in-github",
        "colab_type": "text"
      },
      "source": [
        "<a href=\"https://colab.research.google.com/github/FarhaKousar1601/-VTUStudyMarkAnalysis/blob/main/%20Data%20Analysis%20and%20Machine%20Learning.ipynb\" target=\"_parent\"><img src=\"https://colab.research.google.com/assets/colab-badge.svg\" alt=\"Open In Colab\"/></a>"
      ]
    },
    {
      "cell_type": "code",
      "execution_count": 5,
      "metadata": {
        "colab": {
          "base_uri": "https://localhost:8080/"
        },
        "id": "vIRDlBOikuCU",
        "outputId": "99010958-47cd-4ee7-906b-9f98001afd0d"
      },
      "outputs": [
        {
          "output_type": "stream",
          "name": "stdout",
          "text": [
            "<class 'pandas.core.frame.DataFrame'>\n",
            "RangeIndex: 565 entries, 0 to 564\n",
            "Data columns (total 4 columns):\n",
            " #   Column        Non-Null Count  Dtype \n",
            "---  ------        --------------  ----- \n",
            " 0   Year          565 non-null    int64 \n",
            " 1   Month         565 non-null    object\n",
            " 2   Day           565 non-null    int64 \n",
            " 3   TemperatureF  565 non-null    int64 \n",
            "dtypes: int64(3), object(1)\n",
            "memory usage: 17.8+ KB\n",
            "None\n",
            "   Year    Month  Day  TemperatureF\n",
            "0  2015  January    1            23\n",
            "1  2015  January    2            31\n",
            "2  2015  January    3            25\n",
            "3  2015  January    4            39\n",
            "4  2015  January    5            29\n",
            "Missing values per column:\n",
            " Year            0\n",
            "Month           0\n",
            "Day             0\n",
            "TemperatureF    0\n",
            "dtype: int64\n",
            "Columns: Index(['Year', 'Month', 'Day', 'TemperatureF'], dtype='object')\n",
            "Column 'Temperature' not found in dataset.\n",
            "Column 'Date' not found in dataset.\n",
            "Column 'Location' not found in dataset.\n",
            "Column 'Temperature' not found for statistics calculation.\n",
            "Feature engineering on 'Date' column is skipped as it's not found.\n",
            "Required columns for model training are missing.\n",
            "Skipping model training due to missing required columns.\n"
          ]
        }
      ],
      "source": [
        "# Import required libraries\n",
        "import pandas as pd\n",
        "import numpy as np\n",
        "from sklearn.model_selection import train_test_split\n",
        "from sklearn.linear_model import LinearRegression\n",
        "from sklearn.metrics import mean_absolute_error, r2_score\n",
        "\n",
        "# Step 1: Load the Dataset\n",
        "df = pd.read_csv('/content/TemperatureData.csv')\n",
        "\n",
        "# Display basic information and the first few rows to understand the data structure\n",
        "print(df.info())\n",
        "print(df.head())\n",
        "\n",
        "# Step 2: Data Cleaning\n",
        "# Check for missing values and print column names for verification\n",
        "print(\"Missing values per column:\\n\", df.isnull().sum())\n",
        "print(\"Columns:\", df.columns)\n",
        "\n",
        "# Ensure column names are consistent by stripping any extra spaces\n",
        "df.columns = df.columns.str.strip()\n",
        "\n",
        "# Handle missing values in the 'Temperature' column by filling with the mean\n",
        "if 'Temperature' in df.columns:\n",
        "    df['Temperature'].fillna(df['Temperature'].mean(), inplace=True)\n",
        "else:\n",
        "    print(\"Column 'Temperature' not found in dataset.\")\n",
        "\n",
        "# Convert the 'Date' column to datetime format (if it exists) for easier manipulation\n",
        "if 'Date' in df.columns:\n",
        "    df['Date'] = pd.to_datetime(df['Date'], errors='coerce')\n",
        "else:\n",
        "    print(\"Column 'Date' not found in dataset.\")\n",
        "\n",
        "# Step 3: String Manipulation (for text columns, if any)\n",
        "# For example, let's assume a 'Location' column that may need cleaning\n",
        "if 'Location' in df.columns:\n",
        "    df['Location'] = df['Location'].str.lower().str.strip()\n",
        "else:\n",
        "    print(\"Column 'Location' not found in dataset.\")\n",
        "\n",
        "# Step 4: Use NumPy for Basic Statistics\n",
        "# Convert Temperature data to a NumPy array for statistical calculations\n",
        "if 'Temperature' in df.columns:\n",
        "    temp_array = np.array(df['Temperature'])\n",
        "    mean_temp = np.mean(temp_array)\n",
        "    median_temp = np.median(temp_array)\n",
        "    print(\"Mean Temperature:\", mean_temp)\n",
        "    print(\"Median Temperature:\", median_temp)\n",
        "else:\n",
        "    print(\"Column 'Temperature' not found for statistics calculation.\")\n",
        "\n",
        "# Step 5: Feature Engineering and Data Splitting\n",
        "# Extract Year, Month, and Day from the 'Date' column for additional features\n",
        "if 'Date' in df.columns:\n",
        "    df['Year'] = df['Date'].dt.year\n",
        "    df['Month'] = df['Date'].dt.month\n",
        "    df['Day'] = df['Date'].dt.day\n",
        "else:\n",
        "    print(\"Feature engineering on 'Date' column is skipped as it's not found.\")\n",
        "\n",
        "# Define features (X) and target variable (y)\n",
        "if {'Temperature', 'Year', 'Month', 'Day'}.issubset(df.columns):\n",
        "    X = df[['Year', 'Month', 'Day']]\n",
        "    y = df['Temperature']\n",
        "else:\n",
        "    print(\"Required columns for model training are missing.\")\n",
        "    X = y = None\n",
        "\n",
        "# Proceed with training only if X and y are defined\n",
        "if X is not None and y is not None:\n",
        "    # Split the dataset into training and testing sets\n",
        "    X_train, X_test, y_train, y_test = train_test_split(X, y, test_size=0.2, random_state=42)\n",
        "\n",
        "    # Step 6: Build and Evaluate a Linear Regression Model\n",
        "    # Initialize and train the linear regression model\n",
        "    model = LinearRegression()\n",
        "    model.fit(X_train, y_train)\n",
        "\n",
        "    # Predict on the test set\n",
        "    y_pred = model.predict(X_test)\n",
        "\n",
        "    # Evaluate the model\n",
        "    mae = mean_absolute_error(y_test, y_pred)\n",
        "    r2 = r2_score(y_test, y_pred)\n",
        "\n",
        "    print(\"Mean Absolute Error (MAE):\", mae)\n",
        "    print(\"R-squared Score:\", r2)\n",
        "else:\n",
        "    print(\"Skipping model training due to missing required columns.\")"
      ]
    },
    {
      "cell_type": "code",
      "execution_count": null,
      "metadata": {
        "colab": {
          "background_save": true
        },
        "id": "KATagc_lCRkm"
      },
      "outputs": [],
      "source": []
    }
  ],
  "metadata": {
    "colab": {
      "provenance": [],
      "authorship_tag": "ABX9TyO5AOWKpA8HEwe3H3BgpOUh",
      "include_colab_link": true
    },
    "kernelspec": {
      "display_name": "Python 3",
      "name": "python3"
    },
    "language_info": {
      "name": "python"
    }
  },
  "nbformat": 4,
  "nbformat_minor": 0
}